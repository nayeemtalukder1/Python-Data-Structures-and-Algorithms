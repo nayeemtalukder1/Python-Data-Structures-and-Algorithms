{
 "cells": [
  {
   "cell_type": "markdown",
   "id": "9e7e3092-6a68-47cd-a3dd-d17a4b3725e2",
   "metadata": {},
   "source": [
    "<h1>Stack</h1>"
   ]
  },
  {
   "cell_type": "code",
   "execution_count": 5,
   "id": "da1af4bf-f750-4a7b-94ce-532364f8cad8",
   "metadata": {},
   "outputs": [],
   "source": [
    "s = []\n",
    "\n",
    "s.append('https://www.nayeem.com/')\n",
    "s.append('https://www.nayeem.com/profile')\n",
    "s.append('https://www.nayeem.com/address')\n",
    "s.append('https://www.nayeem.com/blog')"
   ]
  },
  {
   "cell_type": "code",
   "execution_count": 6,
   "id": "aaf17cf9-f2df-4736-b4ff-9cdb8fb474c4",
   "metadata": {},
   "outputs": [
    {
     "data": {
      "text/plain": [
       "'https://www.nayeem.com/blog'"
      ]
     },
     "execution_count": 6,
     "metadata": {},
     "output_type": "execute_result"
    }
   ],
   "source": [
    "s[-1]"
   ]
  },
  {
   "cell_type": "code",
   "execution_count": 7,
   "id": "ae83be42-061b-4923-9c74-43029a1b7546",
   "metadata": {},
   "outputs": [
    {
     "data": {
      "text/plain": [
       "'https://www.nayeem.com/blog'"
      ]
     },
     "execution_count": 7,
     "metadata": {},
     "output_type": "execute_result"
    }
   ],
   "source": [
    "s.pop()"
   ]
  },
  {
   "cell_type": "code",
   "execution_count": 8,
   "id": "5825cf46-467f-4724-932f-0122064739af",
   "metadata": {},
   "outputs": [
    {
     "data": {
      "text/plain": [
       "'https://www.nayeem.com/address'"
      ]
     },
     "execution_count": 8,
     "metadata": {},
     "output_type": "execute_result"
    }
   ],
   "source": [
    "s.pop()"
   ]
  },
  {
   "cell_type": "code",
   "execution_count": 9,
   "id": "a44fb5a9-c955-4337-b887-8239beb16c50",
   "metadata": {},
   "outputs": [
    {
     "data": {
      "text/plain": [
       "'https://www.nayeem.com/profile'"
      ]
     },
     "execution_count": 9,
     "metadata": {},
     "output_type": "execute_result"
    }
   ],
   "source": [
    "s.pop()"
   ]
  },
  {
   "cell_type": "markdown",
   "id": "c28be3ce-a8e6-43eb-8be7-edcdb710b2e4",
   "metadata": {},
   "source": [
    "Import dque"
   ]
  },
  {
   "cell_type": "code",
   "execution_count": 10,
   "id": "5abbae3f-931a-4aa9-ae7c-f11999c7ee97",
   "metadata": {},
   "outputs": [],
   "source": [
    "from collections import deque\n",
    "stack = deque()"
   ]
  },
  {
   "cell_type": "code",
   "execution_count": 11,
   "id": "5d434529-3fcd-4395-9af5-17f9b8e1930d",
   "metadata": {},
   "outputs": [
    {
     "data": {
      "text/plain": [
       "['__add__',\n",
       " '__class__',\n",
       " '__class_getitem__',\n",
       " '__contains__',\n",
       " '__copy__',\n",
       " '__delattr__',\n",
       " '__delitem__',\n",
       " '__dir__',\n",
       " '__doc__',\n",
       " '__eq__',\n",
       " '__format__',\n",
       " '__ge__',\n",
       " '__getattribute__',\n",
       " '__getitem__',\n",
       " '__getstate__',\n",
       " '__gt__',\n",
       " '__hash__',\n",
       " '__iadd__',\n",
       " '__imul__',\n",
       " '__init__',\n",
       " '__init_subclass__',\n",
       " '__iter__',\n",
       " '__le__',\n",
       " '__len__',\n",
       " '__lt__',\n",
       " '__module__',\n",
       " '__mul__',\n",
       " '__ne__',\n",
       " '__new__',\n",
       " '__reduce__',\n",
       " '__reduce_ex__',\n",
       " '__repr__',\n",
       " '__reversed__',\n",
       " '__rmul__',\n",
       " '__setattr__',\n",
       " '__setitem__',\n",
       " '__sizeof__',\n",
       " '__str__',\n",
       " '__subclasshook__',\n",
       " 'append',\n",
       " 'appendleft',\n",
       " 'clear',\n",
       " 'copy',\n",
       " 'count',\n",
       " 'extend',\n",
       " 'extendleft',\n",
       " 'index',\n",
       " 'insert',\n",
       " 'maxlen',\n",
       " 'pop',\n",
       " 'popleft',\n",
       " 'remove',\n",
       " 'reverse',\n",
       " 'rotate']"
      ]
     },
     "execution_count": 11,
     "metadata": {},
     "output_type": "execute_result"
    }
   ],
   "source": [
    "dir(stack)"
   ]
  },
  {
   "cell_type": "code",
   "execution_count": 12,
   "id": "fe144bed-3d60-41f1-b77f-2ad0bd4a580a",
   "metadata": {},
   "outputs": [],
   "source": [
    "stack.append(\"https://www.nayeem.com/\")\n",
    "stack.append(\"https://www.nayeem.com/profile\")\n",
    "stack.append(\"https://www.nayeem.com/address\")\n",
    "stack.append(\"https://www.nayeem.com/blog\")"
   ]
  },
  {
   "cell_type": "code",
   "execution_count": 13,
   "id": "6967706d-93c3-4534-9bfc-11ab684960ef",
   "metadata": {},
   "outputs": [
    {
     "data": {
      "text/plain": [
       "'https://www.nayeem.com/blog'"
      ]
     },
     "execution_count": 13,
     "metadata": {},
     "output_type": "execute_result"
    }
   ],
   "source": [
    "stack.pop()"
   ]
  },
  {
   "cell_type": "code",
   "execution_count": 14,
   "id": "43b417a9-6f96-4fda-a7ae-421384076f4b",
   "metadata": {},
   "outputs": [
    {
     "data": {
      "text/plain": [
       "'https://www.nayeem.com/address'"
      ]
     },
     "execution_count": 14,
     "metadata": {},
     "output_type": "execute_result"
    }
   ],
   "source": [
    "stack.pop()"
   ]
  },
  {
   "cell_type": "code",
   "execution_count": 15,
   "id": "af275611-81a2-4e96-9246-afab8747248c",
   "metadata": {},
   "outputs": [
    {
     "data": {
      "text/plain": [
       "deque(['https://www.nayeem.com/', 'https://www.nayeem.com/profile'])"
      ]
     },
     "execution_count": 15,
     "metadata": {},
     "output_type": "execute_result"
    }
   ],
   "source": [
    "stack"
   ]
  },
  {
   "cell_type": "code",
   "execution_count": 21,
   "id": "24a41d5b-811e-4831-970d-e6dd3f32ba14",
   "metadata": {},
   "outputs": [],
   "source": [
    "class Stack:\n",
    "    def __init__(self):\n",
    "        self.container = deque()\n",
    "    def push(self, val):\n",
    "        self.container.append(val)\n",
    "    def pop(self):\n",
    "        return self.container.pop()\n",
    "\n",
    "    def peek(self):\n",
    "        return self.container[-1]\n",
    "    def is_empty(self):\n",
    "        return len(self.container)==0\n",
    "\n",
    "    def size(self):\n",
    "        return len(self.container)"
   ]
  },
  {
   "cell_type": "code",
   "execution_count": 22,
   "id": "728daa94-b8fa-4452-8644-ae454d6406de",
   "metadata": {},
   "outputs": [],
   "source": [
    "s = Stack()"
   ]
  },
  {
   "cell_type": "code",
   "execution_count": 23,
   "id": "d7715034-2579-4ac6-9a6c-336d74669b3b",
   "metadata": {},
   "outputs": [],
   "source": [
    "s.push(5)"
   ]
  },
  {
   "cell_type": "code",
   "execution_count": 24,
   "id": "7eb00947-cb55-4f73-9d61-8a51425b06be",
   "metadata": {},
   "outputs": [
    {
     "data": {
      "text/plain": [
       "5"
      ]
     },
     "execution_count": 24,
     "metadata": {},
     "output_type": "execute_result"
    }
   ],
   "source": [
    "s.peek()"
   ]
  },
  {
   "cell_type": "code",
   "execution_count": 25,
   "id": "e4a6d9ff-2368-46fa-b6ad-dcd3ce0009e3",
   "metadata": {},
   "outputs": [
    {
     "data": {
      "text/plain": [
       "5"
      ]
     },
     "execution_count": 25,
     "metadata": {},
     "output_type": "execute_result"
    }
   ],
   "source": [
    "s.pop()"
   ]
  },
  {
   "cell_type": "code",
   "execution_count": 26,
   "id": "aa7c32c1-e8e1-42a4-8b5e-223f7d26ce34",
   "metadata": {},
   "outputs": [
    {
     "ename": "IndexError",
     "evalue": "pop from an empty deque",
     "output_type": "error",
     "traceback": [
      "\u001b[1;31m---------------------------------------------------------------------------\u001b[0m",
      "\u001b[1;31mIndexError\u001b[0m                                Traceback (most recent call last)",
      "Cell \u001b[1;32mIn[26], line 1\u001b[0m\n\u001b[1;32m----> 1\u001b[0m \u001b[43ms\u001b[49m\u001b[38;5;241;43m.\u001b[39;49m\u001b[43mpop\u001b[49m\u001b[43m(\u001b[49m\u001b[43m)\u001b[49m\n",
      "Cell \u001b[1;32mIn[21], line 7\u001b[0m, in \u001b[0;36mStack.pop\u001b[1;34m(self)\u001b[0m\n\u001b[0;32m      6\u001b[0m \u001b[38;5;28;01mdef\u001b[39;00m \u001b[38;5;21mpop\u001b[39m(\u001b[38;5;28mself\u001b[39m):\n\u001b[1;32m----> 7\u001b[0m     \u001b[38;5;28;01mreturn\u001b[39;00m \u001b[38;5;28;43mself\u001b[39;49m\u001b[38;5;241;43m.\u001b[39;49m\u001b[43mcontainer\u001b[49m\u001b[38;5;241;43m.\u001b[39;49m\u001b[43mpop\u001b[49m\u001b[43m(\u001b[49m\u001b[43m)\u001b[49m\n",
      "\u001b[1;31mIndexError\u001b[0m: pop from an empty deque"
     ]
    }
   ],
   "source": [
    "s.pop()"
   ]
  },
  {
   "cell_type": "code",
   "execution_count": 27,
   "id": "dff3f083-b01d-4464-8e0a-abfaf95cab79",
   "metadata": {},
   "outputs": [
    {
     "data": {
      "text/plain": [
       "True"
      ]
     },
     "execution_count": 27,
     "metadata": {},
     "output_type": "execute_result"
    }
   ],
   "source": [
    "s.is_empty()"
   ]
  },
  {
   "cell_type": "code",
   "execution_count": null,
   "id": "6b22688f-e4b4-43e8-b4de-6c2751f296ff",
   "metadata": {},
   "outputs": [],
   "source": []
  }
 ],
 "metadata": {
  "kernelspec": {
   "display_name": "Python 3 (ipykernel)",
   "language": "python",
   "name": "python3"
  },
  "language_info": {
   "codemirror_mode": {
    "name": "ipython",
    "version": 3
   },
   "file_extension": ".py",
   "mimetype": "text/x-python",
   "name": "python",
   "nbconvert_exporter": "python",
   "pygments_lexer": "ipython3",
   "version": "3.12.4"
  }
 },
 "nbformat": 4,
 "nbformat_minor": 5
}
