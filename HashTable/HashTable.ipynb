{
 "cells": [
  {
   "cell_type": "markdown",
   "id": "d3ce8461-c4a7-425f-bc24-0f31177163f7",
   "metadata": {},
   "source": [
    "<h1>Csv file convert into List</h1>"
   ]
  },
  {
   "cell_type": "code",
   "execution_count": 14,
   "id": "159e3578-6159-47f6-8ddb-41384c482e0d",
   "metadata": {},
   "outputs": [
    {
     "name": "stdout",
     "output_type": "stream",
     "text": [
      "230.0\n"
     ]
    }
   ],
   "source": [
    "stock_price = []\n",
    "\n",
    "with open(\"data.csv\", \"r\") as f:\n",
    "    for line in f:\n",
    "        tokens = line.split(',')\n",
    "        day = tokens[0]\n",
    "        price = float(tokens[1])\n",
    "        stock_price.append([day, price])\n",
    "\n",
    "for element in stock_price:\n",
    "    if element[0] == '7-Mar':\n",
    "        print(element[1])"
   ]
  },
  {
   "cell_type": "markdown",
   "id": "f79f37a2-e920-48f4-9daa-5e83fca510b9",
   "metadata": {},
   "source": [
    "<h1>Csv file conver into Dictionary</h1>"
   ]
  },
  {
   "cell_type": "code",
   "execution_count": 15,
   "id": "65b76b31-ed69-4c4a-8838-b28feda6df7c",
   "metadata": {},
   "outputs": [
    {
     "data": {
      "text/plain": [
       "{'6-Mar': 120.0,\n",
       " '7-Mar': 230.0,\n",
       " '8-Mar': 140.0,\n",
       " '9-Mar': 420.0,\n",
       " '10-Mar': 530.0}"
      ]
     },
     "execution_count": 15,
     "metadata": {},
     "output_type": "execute_result"
    }
   ],
   "source": [
    "stock_price = {}\n",
    "\n",
    "with open(\"data.csv\", \"r\") as f:\n",
    "    for line in f:\n",
    "        tokens = line.split(',')\n",
    "        day = tokens[0]\n",
    "        price = float(tokens[1])\n",
    "        stock_price[day] = price\n",
    "\n",
    "stock_price"
   ]
  },
  {
   "cell_type": "code",
   "execution_count": 16,
   "id": "98ec4088-3382-4f5c-a69f-0bba59d52fbe",
   "metadata": {},
   "outputs": [
    {
     "data": {
      "text/plain": [
       "230.0"
      ]
     },
     "execution_count": 16,
     "metadata": {},
     "output_type": "execute_result"
    }
   ],
   "source": [
    "stock_price['7-Mar']"
   ]
  },
  {
   "cell_type": "markdown",
   "id": "aabdd44a-94bc-458a-a7d8-4904a546c8d8",
   "metadata": {},
   "source": [
    "<h1>Hash function</h1>"
   ]
  },
  {
   "cell_type": "code",
   "execution_count": 19,
   "id": "750c5148-28b2-452f-9065-e4d3192c095d",
   "metadata": {},
   "outputs": [
    {
     "data": {
      "text/plain": [
       "54"
      ]
     },
     "execution_count": 19,
     "metadata": {},
     "output_type": "execute_result"
    }
   ],
   "source": [
    "def get_hash(key):\n",
    "    h = 0\n",
    "    for char in key:\n",
    "        h += ord(char)\n",
    "        return h%100\n",
    "get_hash('6-Mar')"
   ]
  },
  {
   "cell_type": "markdown",
   "id": "0e4d4701-421f-490d-b8be-e89abcce1513",
   "metadata": {},
   "source": [
    "<h1>Hash Table</h1>"
   ]
  },
  {
   "cell_type": "code",
   "execution_count": 40,
   "id": "53b35603-ec62-4dd2-9b0e-bdcd95e06ac7",
   "metadata": {},
   "outputs": [],
   "source": [
    "class HashTable:\n",
    "    def __init__(self):\n",
    "        self.MAX = 100\n",
    "        self.arr = [None for i in range(self.MAX)]\n",
    "\n",
    "    def get_hash(self, key):\n",
    "        h = 0\n",
    "        for char in key:\n",
    "            h += ord(char)\n",
    "        return h % self.MAX"
   ]
  },
  {
   "cell_type": "code",
   "execution_count": 41,
   "id": "397520d1-ca2b-4bb5-a354-02ffd327d9b2",
   "metadata": {},
   "outputs": [
    {
     "data": {
      "text/plain": [
       "88"
      ]
     },
     "execution_count": 41,
     "metadata": {},
     "output_type": "execute_result"
    }
   ],
   "source": [
    "t = HashTable()\n",
    "\n",
    "t.get_hash('7-Mar')"
   ]
  },
  {
   "cell_type": "code",
   "execution_count": 45,
   "id": "e0276a42-68f9-443b-bf05-e89eb4bf43fb",
   "metadata": {},
   "outputs": [],
   "source": [
    "class HashTable:\n",
    "    def __init__(self):\n",
    "        self.MAX = 100\n",
    "        self.arr = [None for i in range(self.MAX)]\n",
    "\n",
    "    def get_hash(self, key):\n",
    "        h = 0\n",
    "        for char in key:\n",
    "            h += ord(char)\n",
    "        return h % self.MAX\n",
    "\n",
    "    def add(self, key, val):\n",
    "        h = self.get_hash(key)\n",
    "        self.arr[h] = val\n",
    "\n",
    "    def get(self, key):\n",
    "        h = self.get_hash(key)\n",
    "        return self.arr[h]"
   ]
  },
  {
   "cell_type": "code",
   "execution_count": 46,
   "id": "90537310-b273-40c1-bc92-ce5dc39d2c56",
   "metadata": {},
   "outputs": [],
   "source": [
    "t = HashTable()\n",
    "\n",
    "t.add('11-Mar', 222)"
   ]
  },
  {
   "cell_type": "code",
   "execution_count": 44,
   "id": "03e66eb4-7395-4049-a138-f60f40352451",
   "metadata": {},
   "outputs": [
    {
     "data": {
      "text/plain": [
       "[None,\n",
       " None,\n",
       " None,\n",
       " None,\n",
       " None,\n",
       " None,\n",
       " None,\n",
       " None,\n",
       " None,\n",
       " None,\n",
       " None,\n",
       " None,\n",
       " None,\n",
       " None,\n",
       " None,\n",
       " None,\n",
       " None,\n",
       " None,\n",
       " None,\n",
       " None,\n",
       " None,\n",
       " None,\n",
       " None,\n",
       " None,\n",
       " None,\n",
       " None,\n",
       " None,\n",
       " None,\n",
       " None,\n",
       " None,\n",
       " None,\n",
       " 222,\n",
       " None,\n",
       " None,\n",
       " None,\n",
       " None,\n",
       " None,\n",
       " None,\n",
       " None,\n",
       " None,\n",
       " None,\n",
       " None,\n",
       " None,\n",
       " None,\n",
       " None,\n",
       " None,\n",
       " None,\n",
       " None,\n",
       " None,\n",
       " None,\n",
       " None,\n",
       " None,\n",
       " None,\n",
       " None,\n",
       " None,\n",
       " None,\n",
       " None,\n",
       " None,\n",
       " None,\n",
       " None,\n",
       " None,\n",
       " None,\n",
       " None,\n",
       " None,\n",
       " None,\n",
       " None,\n",
       " None,\n",
       " None,\n",
       " None,\n",
       " None,\n",
       " None,\n",
       " None,\n",
       " None,\n",
       " None,\n",
       " None,\n",
       " None,\n",
       " None,\n",
       " None,\n",
       " None,\n",
       " None,\n",
       " None,\n",
       " None,\n",
       " None,\n",
       " None,\n",
       " None,\n",
       " None,\n",
       " None,\n",
       " None,\n",
       " None,\n",
       " None,\n",
       " None,\n",
       " None,\n",
       " None,\n",
       " None,\n",
       " None,\n",
       " None,\n",
       " None,\n",
       " None,\n",
       " None,\n",
       " None]"
      ]
     },
     "execution_count": 44,
     "metadata": {},
     "output_type": "execute_result"
    }
   ],
   "source": [
    "t.arr"
   ]
  },
  {
   "cell_type": "code",
   "execution_count": 47,
   "id": "f594ab1c-0b0e-455c-9f34-76b07d325740",
   "metadata": {},
   "outputs": [
    {
     "data": {
      "text/plain": [
       "222"
      ]
     },
     "execution_count": 47,
     "metadata": {},
     "output_type": "execute_result"
    }
   ],
   "source": [
    "t.get('11-Mar')"
   ]
  },
  {
   "cell_type": "code",
   "execution_count": 48,
   "id": "5500aaca-7766-40e5-b692-1b59f599dd12",
   "metadata": {},
   "outputs": [],
   "source": [
    "class HashTable:\n",
    "    def __init__(self):\n",
    "        self.MAX = 100\n",
    "        self.arr = [None for i in range(self.MAX)]\n",
    "\n",
    "    def get_hash(self, key):\n",
    "        h = 0\n",
    "        for char in key:\n",
    "            h += ord(char)\n",
    "        return h % self.MAX\n",
    "\n",
    "    def __setitem__(self, key, val):\n",
    "        h = self.get_hash(key)\n",
    "        self.arr[h] = val\n",
    "\n",
    "    def __getitem__(self, key):\n",
    "        h = self.get_hash(key)\n",
    "        return self.arr[h]"
   ]
  },
  {
   "cell_type": "code",
   "execution_count": 49,
   "id": "4512b441-9128-4337-8a89-a632773be04d",
   "metadata": {},
   "outputs": [],
   "source": [
    "t = HashTable()\n",
    "\n",
    "t['12-Mar'] = 444"
   ]
  },
  {
   "cell_type": "code",
   "execution_count": 50,
   "id": "707a284d-780c-4475-afe2-7cd6a7102432",
   "metadata": {},
   "outputs": [
    {
     "data": {
      "text/plain": [
       "444"
      ]
     },
     "execution_count": 50,
     "metadata": {},
     "output_type": "execute_result"
    }
   ],
   "source": [
    "t['12-Mar']"
   ]
  },
  {
   "cell_type": "code",
   "execution_count": null,
   "id": "f5065acf-a3ce-426c-b2d6-27e52998cb1b",
   "metadata": {},
   "outputs": [],
   "source": []
  }
 ],
 "metadata": {
  "kernelspec": {
   "display_name": "Python 3 (ipykernel)",
   "language": "python",
   "name": "python3"
  },
  "language_info": {
   "codemirror_mode": {
    "name": "ipython",
    "version": 3
   },
   "file_extension": ".py",
   "mimetype": "text/x-python",
   "name": "python",
   "nbconvert_exporter": "python",
   "pygments_lexer": "ipython3",
   "version": "3.12.4"
  }
 },
 "nbformat": 4,
 "nbformat_minor": 5
}
